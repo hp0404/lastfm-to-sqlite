{
 "cells": [
  {
   "cell_type": "code",
   "execution_count": 1,
   "id": "8d385b85-a9b1-4ee7-ab87-2f2ad31df4c0",
   "metadata": {},
   "outputs": [],
   "source": [
    "from lastfm import LastFM"
   ]
  },
  {
   "cell_type": "code",
   "execution_count": 7,
   "id": "9dbaabba-41d2-4006-8c7b-54bce065603c",
   "metadata": {},
   "outputs": [],
   "source": [
    "api = LastFM(\n",
    "    api=\"244ec3b62b2501514191234eed07c75d\",\n",
    "    username=\"way4music\", \n",
    "    start_date=\"2021-08-21\",\n",
    "    end_date=\"2021-09-01\"\n",
    ")"
   ]
  },
  {
   "cell_type": "code",
   "execution_count": 8,
   "id": "19b84008-1a79-4f45-a5bd-26c870fe82c1",
   "metadata": {},
   "outputs": [],
   "source": [
    "data = api.fetch()\n",
    "song = next(data)"
   ]
  },
  {
   "cell_type": "code",
   "execution_count": 10,
   "id": "6bf1e7b4-6f38-4e99-ad96-60e17843f6bf",
   "metadata": {},
   "outputs": [],
   "source": [
    "container = []\n",
    "for item in data:\n",
    "    container.append(item)"
   ]
  },
  {
   "cell_type": "code",
   "execution_count": 11,
   "id": "1f89a8fb-aada-41be-bda5-05e4cd124c14",
   "metadata": {},
   "outputs": [
    {
     "data": {
      "text/plain": [
       "[{'artist': 'Sara Watkins',\n",
       "  'album': 'Without A Word',\n",
       "  'song': 'Without A Word',\n",
       "  'uts_timestamp': 1630421886,\n",
       "  'datetime': '31 Aug 2021, 14:58'},\n",
       " {'artist': 'Dave Rawlings Machine',\n",
       "  'album': 'A Friend Of A Friend',\n",
       "  'song': 'Bells Of Harlem',\n",
       "  'uts_timestamp': 1630421638,\n",
       "  'datetime': '31 Aug 2021, 14:53'},\n",
       " {'artist': 'Courtney Marie Andrews',\n",
       "  'album': 'May Your Kindness Remain',\n",
       "  'song': 'May Your Kindness Remain',\n",
       "  'uts_timestamp': 1630421403,\n",
       "  'datetime': '31 Aug 2021, 14:50'},\n",
       " {'artist': 'Lera Lynn',\n",
       "  'album': 'On My Own',\n",
       "  'song': 'A Light Comes Through',\n",
       "  'uts_timestamp': 1630421221,\n",
       "  'datetime': '31 Aug 2021, 14:47'},\n",
       " {'artist': 'The Deep Dark Woods',\n",
       "  'album': 'The Place I Left Behind',\n",
       "  'song': 'The Place I Left Behind',\n",
       "  'uts_timestamp': 1630420976,\n",
       "  'datetime': '31 Aug 2021, 14:42'}]"
      ]
     },
     "execution_count": 11,
     "metadata": {},
     "output_type": "execute_result"
    }
   ],
   "source": [
    "container[:5]"
   ]
  }
 ],
 "metadata": {
  "kernelspec": {
   "display_name": "Python 3 (ipykernel)",
   "language": "python",
   "name": "python3"
  },
  "language_info": {
   "codemirror_mode": {
    "name": "ipython",
    "version": 3
   },
   "file_extension": ".py",
   "mimetype": "text/x-python",
   "name": "python",
   "nbconvert_exporter": "python",
   "pygments_lexer": "ipython3",
   "version": "3.8.5"
  }
 },
 "nbformat": 4,
 "nbformat_minor": 5
}
